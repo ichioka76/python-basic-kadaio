{
  "cells": [
    {
      "cell_type": "code",
      "execution_count": 33,
      "metadata": {
        "colab": {
          "base_uri": "https://localhost:8080/"
        },
        "id": "mclljHHCDw1h",
        "outputId": "5a66dc3c-af36-4464-dc04-22112a426298"
      },
      "outputs": [
        {
          "name": "stdout",
          "output_type": "stream",
          "text": [
            ":121.00000000000001\n"
          ]
        }
      ],
      "source": [
        "def calculate_total_price(price, tax_rate):\n",
        "    total_price = price * (1 + tax_rate)\n",
        "    return total_price\n",
        "\n",
        "price = 110\n",
        "tax_rate = 0.1\n",
        "total = calculate_total_price(price, tax_rate)\n",
        "\n",
        "print(f\":{total}\")"
      ]
    }
  ],
  "metadata": {
    "colab": {
      "provenance": []
    },
    "kernelspec": {
      "display_name": "Python 3",
      "name": "python3"
    },
    "language_info": {
      "name": "python"
    }
  },
  "nbformat": 4,
  "nbformat_minor": 0
}
