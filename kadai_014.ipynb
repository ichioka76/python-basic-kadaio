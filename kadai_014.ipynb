{
  "cells": [
    {
      "cell_type": "code",
      "execution_count": 26,
      "metadata": {
        "colab": {
          "base_uri": "https://localhost:8080/"
        },
        "id": "B0-LgYq8PXCD",
        "outputId": "a90dbc71-098e-4479-a098-e84c0ea7104b"
      },
      "outputs": [
        {
          "name": "stdout",
          "output_type": "stream",
          "text": [
            "330.0\n"
          ]
        }
      ],
      "source": [
        "price1, price2 = 100, 200\n",
        "\n",
        "def show_total():\n",
        "\n",
        "    global price1\n",
        "    global price2\n",
        "    tax = 1.1\n",
        "    total = price1 + price2\n",
        "    return total, tax\n",
        "\n",
        "total, tax = show_total()\n",
        "print(total * tax)\n",
        "\n",
        "\n",
        "\n",
        "\n"
      ]
    }
  ],
  "metadata": {
    "colab": {
      "provenance": []
    },
    "kernelspec": {
      "display_name": "Python 3",
      "name": "python3"
    },
    "language_info": {
      "name": "python"
    }
  },
  "nbformat": 4,
  "nbformat_minor": 0
}
