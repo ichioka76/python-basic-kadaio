{
  "cells": [
    {
      "cell_type": "code",
      "execution_count": 13,
      "metadata": {
        "colab": {
          "base_uri": "https://localhost:8080/"
        },
        "id": "bzbRkTI71XO4",
        "outputId": "a3d37f38-694b-4019-ad07-0007f9fcbdd9"
      },
      "outputs": [
        {
          "name": "stdout",
          "output_type": "stream",
          "text": [
            "田村宏\n",
            "34\n"
          ]
        }
      ],
      "source": [
        "class Human:\n",
        "    def __init__(self,name,age):\n",
        "\n",
        "      self.name = name\n",
        "      self.age = age\n",
        "\n",
        "user = Human(\"田村宏\",34)\n",
        "\n",
        "print(user.name)\n",
        "print(user.age)\n",
        "\n",
        "\n",
        "\n"
      ]
    }
  ],
  "metadata": {
    "colab": {
      "provenance": []
    },
    "kernelspec": {
      "display_name": "Python 3",
      "name": "python3"
    },
    "language_info": {
      "name": "python"
    }
  },
  "nbformat": 4,
  "nbformat_minor": 0
}
