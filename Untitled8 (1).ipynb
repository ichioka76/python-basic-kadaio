{
  "cells": [
    {
      "cell_type": "code",
      "execution_count": 17,
      "metadata": {
        "colab": {
          "base_uri": "https://localhost:8080/"
        },
        "id": "bzbRkTI71XO4",
        "outputId": "96925113-7953-4ffb-9a05-81feacd70328"
      },
      "outputs": [
        {
          "name": "stdout",
          "output_type": "stream",
          "text": [
            "Name:田村博,Age:35\n"
          ]
        }
      ],
      "source": [
        "class Human:\n",
        "    def __init__(self,name,age):\n",
        "\n",
        "      self.name = name\n",
        "      self.age = age\n",
        "\n",
        "    def printinfo(self) :\n",
        "        print(f\"Name:{self.name},Age:{self.age}\")\n",
        "\n",
        "if __name__ == \"__main__\":\n",
        "\n",
        "   person = Human(\"田村博\",35)\n",
        "\n",
        "   person.printinfo()\n",
        "\n",
        "\n",
        "\n",
        "\n"
      ]
    }
  ],
  "metadata": {
    "colab": {
      "provenance": []
    },
    "kernelspec": {
      "display_name": "Python 3",
      "name": "python3"
    },
    "language_info": {
      "name": "python"
    }
  },
  "nbformat": 4,
  "nbformat_minor": 0
}
